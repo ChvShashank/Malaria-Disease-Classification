{
 "cells": [
  {
   "cell_type": "markdown",
   "id": "3888a7f4",
   "metadata": {},
   "source": [
    "# Creating CNN using Scratch and Transfer Learning\n"
   ]
  },
  {
   "cell_type": "code",
   "execution_count": 1,
   "id": "d5b6e81a",
   "metadata": {},
   "outputs": [],
   "source": [
    "from tensorflow.keras.layers import Input, Lambda, Dense, Flatten,Conv2D\n",
    "from tensorflow.keras.models import Model\n",
    "from tensorflow.keras.applications.vgg19 import VGG19\n",
    "from tensorflow.keras.applications.resnet50 import preprocess_input\n",
    "from tensorflow.keras.preprocessing import image\n",
    "from tensorflow.keras.preprocessing.image import ImageDataGenerator,load_img\n",
    "from tensorflow.keras.models import Sequential\n",
    "import numpy as np\n",
    "from glob import glob\n",
    "import matplotlib.pyplot as plt"
   ]
  },
  {
   "cell_type": "code",
   "execution_count": 2,
   "id": "5bb907c5",
   "metadata": {},
   "outputs": [],
   "source": [
    "import tensorflow as tf"
   ]
  },
  {
   "cell_type": "code",
   "execution_count": 3,
   "id": "40f58f9f",
   "metadata": {},
   "outputs": [],
   "source": [
    "# re-sizing all the images to this\n",
    "IMAGE_SIZE = [224, 224]\n",
    "\n",
    "train_path = 'cell_images/Train'\n",
    "valid_path = 'cell_images/Test'"
   ]
  },
  {
   "cell_type": "code",
   "execution_count": 4,
   "id": "08075a4d",
   "metadata": {},
   "outputs": [],
   "source": [
    "#I now import the vgg 19 library and add preprocessing layers to the front\n",
    "#Here i am also using imaget weights\n",
    "#the [3] represents the RGB channels every colour images will be having 3 rgb channels\n",
    "\n",
    "mobilnet = VGG19(input_shape=IMAGE_SIZE + [3], weights='imagenet', include_top=False)"
   ]
  },
  {
   "cell_type": "code",
   "execution_count": 6,
   "id": "410c7c20",
   "metadata": {},
   "outputs": [],
   "source": [
    "#we will not be training existing weights, because we r doing transfer learning\n",
    "for layer in mobilnet.layers:\n",
    "    layer.trainable = False"
   ]
  },
  {
   "cell_type": "code",
   "execution_count": 7,
   "id": "368e07e4",
   "metadata": {},
   "outputs": [],
   "source": [
    "from glob import glob\n",
    "folders = glob('Train/*')"
   ]
  },
  {
   "cell_type": "code",
   "execution_count": 8,
   "id": "2f299236",
   "metadata": {},
   "outputs": [
    {
     "data": {
      "text/plain": [
       "['Train\\\\Parasite', 'Train\\\\Uninfected']"
      ]
     },
     "execution_count": 8,
     "metadata": {},
     "output_type": "execute_result"
    }
   ],
   "source": [
    "folders"
   ]
  },
  {
   "cell_type": "code",
   "execution_count": 9,
   "id": "9f06cb37",
   "metadata": {},
   "outputs": [],
   "source": [
    "X=Flatten()(mobilnet.output)"
   ]
  },
  {
   "cell_type": "code",
   "execution_count": 10,
   "id": "cfde3405",
   "metadata": {},
   "outputs": [],
   "source": [
    "prediction = Dense(len(folders), activation='softmax')(X)\n",
    "\n",
    "model = Model(inputs=mobilnet.input, outputs=prediction)"
   ]
  },
  {
   "cell_type": "code",
   "execution_count": 11,
   "id": "e5ba80cc",
   "metadata": {},
   "outputs": [
    {
     "name": "stdout",
     "output_type": "stream",
     "text": [
      "Model: \"model\"\n",
      "_________________________________________________________________\n",
      " Layer (type)                Output Shape              Param #   \n",
      "=================================================================\n",
      " input_1 (InputLayer)        [(None, 224, 224, 3)]     0         \n",
      "                                                                 \n",
      " block1_conv1 (Conv2D)       (None, 224, 224, 64)      1792      \n",
      "                                                                 \n",
      " block1_conv2 (Conv2D)       (None, 224, 224, 64)      36928     \n",
      "                                                                 \n",
      " block1_pool (MaxPooling2D)  (None, 112, 112, 64)      0         \n",
      "                                                                 \n",
      " block2_conv1 (Conv2D)       (None, 112, 112, 128)     73856     \n",
      "                                                                 \n",
      " block2_conv2 (Conv2D)       (None, 112, 112, 128)     147584    \n",
      "                                                                 \n",
      " block2_pool (MaxPooling2D)  (None, 56, 56, 128)       0         \n",
      "                                                                 \n",
      " block3_conv1 (Conv2D)       (None, 56, 56, 256)       295168    \n",
      "                                                                 \n",
      " block3_conv2 (Conv2D)       (None, 56, 56, 256)       590080    \n",
      "                                                                 \n",
      " block3_conv3 (Conv2D)       (None, 56, 56, 256)       590080    \n",
      "                                                                 \n",
      " block3_conv4 (Conv2D)       (None, 56, 56, 256)       590080    \n",
      "                                                                 \n",
      " block3_pool (MaxPooling2D)  (None, 28, 28, 256)       0         \n",
      "                                                                 \n",
      " block4_conv1 (Conv2D)       (None, 28, 28, 512)       1180160   \n",
      "                                                                 \n",
      " block4_conv2 (Conv2D)       (None, 28, 28, 512)       2359808   \n",
      "                                                                 \n",
      " block4_conv3 (Conv2D)       (None, 28, 28, 512)       2359808   \n",
      "                                                                 \n",
      " block4_conv4 (Conv2D)       (None, 28, 28, 512)       2359808   \n",
      "                                                                 \n",
      " block4_pool (MaxPooling2D)  (None, 14, 14, 512)       0         \n",
      "                                                                 \n",
      " block5_conv1 (Conv2D)       (None, 14, 14, 512)       2359808   \n",
      "                                                                 \n",
      " block5_conv2 (Conv2D)       (None, 14, 14, 512)       2359808   \n",
      "                                                                 \n",
      " block5_conv3 (Conv2D)       (None, 14, 14, 512)       2359808   \n",
      "                                                                 \n",
      " block5_conv4 (Conv2D)       (None, 14, 14, 512)       2359808   \n",
      "                                                                 \n",
      " block5_pool (MaxPooling2D)  (None, 7, 7, 512)         0         \n",
      "                                                                 \n",
      " flatten (Flatten)           (None, 25088)             0         \n",
      "                                                                 \n",
      " dense (Dense)               (None, 2)                 50178     \n",
      "                                                                 \n",
      "=================================================================\n",
      "Total params: 20,074,562\n",
      "Trainable params: 50,178\n",
      "Non-trainable params: 20,024,384\n",
      "_________________________________________________________________\n"
     ]
    }
   ],
   "source": [
    "model.summary()"
   ]
  },
  {
   "cell_type": "code",
   "execution_count": 15,
   "id": "281ec587",
   "metadata": {},
   "outputs": [],
   "source": [
    "from tensorflow.keras.layers import MaxPooling2D"
   ]
  },
  {
   "cell_type": "code",
   "execution_count": 16,
   "id": "9ad6b061",
   "metadata": {},
   "outputs": [
    {
     "name": "stdout",
     "output_type": "stream",
     "text": [
      "Model: \"sequential\"\n",
      "_________________________________________________________________\n",
      " Layer (type)                Output Shape              Param #   \n",
      "=================================================================\n",
      " conv2d (Conv2D)             (None, 224, 224, 16)      208       \n",
      "                                                                 \n",
      " max_pooling2d (MaxPooling2D  (None, 112, 112, 16)     0         \n",
      " )                                                               \n",
      "                                                                 \n",
      " conv2d_1 (Conv2D)           (None, 112, 112, 32)      2080      \n",
      "                                                                 \n",
      " max_pooling2d_1 (MaxPooling  (None, 56, 56, 32)       0         \n",
      " 2D)                                                             \n",
      "                                                                 \n",
      " conv2d_2 (Conv2D)           (None, 56, 56, 64)        8256      \n",
      "                                                                 \n",
      " max_pooling2d_2 (MaxPooling  (None, 28, 28, 64)       0         \n",
      " 2D)                                                             \n",
      "                                                                 \n",
      " flatten_1 (Flatten)         (None, 50176)             0         \n",
      "                                                                 \n",
      " dense_1 (Dense)             (None, 500)               25088500  \n",
      "                                                                 \n",
      " dense_2 (Dense)             (None, 2)                 1002      \n",
      "                                                                 \n",
      "=================================================================\n",
      "Total params: 25,100,046\n",
      "Trainable params: 25,100,046\n",
      "Non-trainable params: 0\n",
      "_________________________________________________________________\n"
     ]
    }
   ],
   "source": [
    "model=Sequential()\n",
    "model.add(Conv2D(filters=16,kernel_size=2,padding=\"same\",activation=\"relu\",input_shape=(224,224,3)))\n",
    "model.add(MaxPooling2D(pool_size=2))\n",
    "model.add(Conv2D(filters=32,kernel_size=2,padding=\"same\",activation =\"relu\"))\n",
    "model.add(MaxPooling2D(pool_size=2))\n",
    "model.add(Conv2D(filters=64,kernel_size=2,padding=\"same\",activation=\"relu\"))\n",
    "model.add(MaxPooling2D(pool_size=2))\n",
    "model.add(Flatten())\n",
    "model.add(Dense(500,activation=\"relu\"))\n",
    "model.add(Dense(2,activation=\"softmax\"))\n",
    "model.summary()"
   ]
  },
  {
   "cell_type": "code",
   "execution_count": 17,
   "id": "2b2b9347",
   "metadata": {},
   "outputs": [],
   "source": [
    "model.compile(\n",
    "  loss='categorical_crossentropy',\n",
    "  optimizer='adam',\n",
    "  metrics=['accuracy']\n",
    ")"
   ]
  },
  {
   "cell_type": "code",
   "execution_count": 28,
   "id": "97601492",
   "metadata": {},
   "outputs": [],
   "source": [
    "#here we are using image data Augmentation, and we use image data generator to import image from the dataset\n",
    "#for image augmentation i have just rescaled the image nothing else\n",
    "from tensorflow.keras.preprocessing.image import ImageDataGenerator\n",
    "\n",
    "train_datagen = ImageDataGenerator(rescale = 1./255,\n",
    "                                   shear_range = 0.2,\n",
    "                                   zoom_range = 0.2,\n",
    "                                   horizontal_flip = True)\n",
    "\n",
    "test_datagen = ImageDataGenerator(rescale = 1./255)"
   ]
  },
  {
   "cell_type": "code",
   "execution_count": 19,
   "id": "20f94d80",
   "metadata": {},
   "outputs": [
    {
     "name": "stdout",
     "output_type": "stream",
     "text": [
      "Found 416 images belonging to 2 classes.\n"
     ]
    }
   ],
   "source": [
    "#for training dataset i select the folders in which the training photos are present\n",
    "training_set = train_datagen.flow_from_directory('Train',\n",
    "                                                 target_size = (224, 224),\n",
    "                                                 batch_size = 32,\n",
    "                                                 class_mode = 'categorical')"
   ]
  },
  {
   "cell_type": "code",
   "execution_count": 20,
   "id": "eb6bae83",
   "metadata": {},
   "outputs": [
    {
     "data": {
      "text/plain": [
       "<keras.preprocessing.image.DirectoryIterator at 0x1ebbc227310>"
      ]
     },
     "execution_count": 20,
     "metadata": {},
     "output_type": "execute_result"
    }
   ],
   "source": [
    "training_set"
   ]
  },
  {
   "cell_type": "code",
   "execution_count": 21,
   "id": "850dc59b",
   "metadata": {},
   "outputs": [
    {
     "name": "stdout",
     "output_type": "stream",
     "text": [
      "Found 134 images belonging to 2 classes.\n"
     ]
    }
   ],
   "source": [
    "test_set = test_datagen.flow_from_directory('Test',\n",
    "                                           target_size = (224,224),\n",
    "                                           batch_size = 32,\n",
    "                                           class_mode = 'categorical')"
   ]
  },
  {
   "cell_type": "code",
   "execution_count": 22,
   "id": "031f50c0",
   "metadata": {},
   "outputs": [
    {
     "data": {
      "text/plain": [
       "<keras.preprocessing.image.DirectoryIterator at 0x1ebbc3c39a0>"
      ]
     },
     "execution_count": 22,
     "metadata": {},
     "output_type": "execute_result"
    }
   ],
   "source": [
    "test_set"
   ]
  },
  {
   "cell_type": "code",
   "execution_count": 23,
   "id": "eaf87424",
   "metadata": {},
   "outputs": [],
   "source": [
    "model.compile(\n",
    "  loss='categorical_crossentropy',\n",
    "  optimizer='adam',\n",
    "  metrics=['accuracy']\n",
    ")"
   ]
  },
  {
   "cell_type": "code",
   "execution_count": 24,
   "id": "2415b0e6",
   "metadata": {},
   "outputs": [
    {
     "name": "stdout",
     "output_type": "stream",
     "text": [
      "Epoch 1/50\n",
      "13/13 [==============================] - 19s 1s/step - loss: 1.4282 - accuracy: 0.5409 - val_loss: 0.8714 - val_accuracy: 0.3358\n",
      "Epoch 2/50\n",
      "13/13 [==============================] - 19s 1s/step - loss: 0.6408 - accuracy: 0.6298 - val_loss: 0.6986 - val_accuracy: 0.5149\n",
      "Epoch 3/50\n",
      "13/13 [==============================] - 21s 2s/step - loss: 0.5332 - accuracy: 0.6779 - val_loss: 0.9178 - val_accuracy: 0.3134\n",
      "Epoch 4/50\n",
      "13/13 [==============================] - 22s 2s/step - loss: 0.4516 - accuracy: 0.7644 - val_loss: 1.1329 - val_accuracy: 0.3358\n",
      "Epoch 5/50\n",
      "13/13 [==============================] - 20s 2s/step - loss: 0.4000 - accuracy: 0.8125 - val_loss: 0.8183 - val_accuracy: 0.4478\n",
      "Epoch 6/50\n",
      "13/13 [==============================] - 21s 2s/step - loss: 0.3573 - accuracy: 0.8389 - val_loss: 0.7835 - val_accuracy: 0.4701\n",
      "Epoch 7/50\n",
      "13/13 [==============================] - 20s 2s/step - loss: 0.3700 - accuracy: 0.8438 - val_loss: 0.6283 - val_accuracy: 0.6045\n",
      "Epoch 8/50\n",
      "13/13 [==============================] - 21s 2s/step - loss: 0.3307 - accuracy: 0.8702 - val_loss: 0.5615 - val_accuracy: 0.6716\n",
      "Epoch 9/50\n",
      "13/13 [==============================] - 22s 2s/step - loss: 0.3138 - accuracy: 0.8894 - val_loss: 0.5549 - val_accuracy: 0.6866\n",
      "Epoch 10/50\n",
      "13/13 [==============================] - 21s 2s/step - loss: 0.2438 - accuracy: 0.9087 - val_loss: 0.5653 - val_accuracy: 0.7015\n",
      "Epoch 11/50\n",
      "13/13 [==============================] - 21s 2s/step - loss: 0.2993 - accuracy: 0.9135 - val_loss: 0.4226 - val_accuracy: 0.8134\n",
      "Epoch 12/50\n",
      "13/13 [==============================] - 21s 2s/step - loss: 0.2602 - accuracy: 0.9231 - val_loss: 0.6240 - val_accuracy: 0.6716\n",
      "Epoch 13/50\n",
      "13/13 [==============================] - 21s 2s/step - loss: 0.2091 - accuracy: 0.9183 - val_loss: 0.6316 - val_accuracy: 0.7090\n",
      "Epoch 14/50\n",
      "13/13 [==============================] - 21s 2s/step - loss: 0.1916 - accuracy: 0.9375 - val_loss: 0.3342 - val_accuracy: 0.8582\n",
      "Epoch 15/50\n",
      "13/13 [==============================] - 21s 2s/step - loss: 0.1762 - accuracy: 0.9399 - val_loss: 0.3442 - val_accuracy: 0.8507\n",
      "Epoch 16/50\n",
      "13/13 [==============================] - 21s 2s/step - loss: 0.1270 - accuracy: 0.9639 - val_loss: 0.3383 - val_accuracy: 0.8507\n",
      "Epoch 17/50\n",
      "13/13 [==============================] - 20s 2s/step - loss: 0.1455 - accuracy: 0.9375 - val_loss: 0.2872 - val_accuracy: 0.8806\n",
      "Epoch 18/50\n",
      "13/13 [==============================] - 21s 2s/step - loss: 0.1087 - accuracy: 0.9615 - val_loss: 0.3654 - val_accuracy: 0.8433\n",
      "Epoch 19/50\n",
      "13/13 [==============================] - 21s 2s/step - loss: 0.1015 - accuracy: 0.9615 - val_loss: 0.3383 - val_accuracy: 0.8507\n",
      "Epoch 20/50\n",
      "13/13 [==============================] - 21s 2s/step - loss: 0.1040 - accuracy: 0.9784 - val_loss: 0.3109 - val_accuracy: 0.8955\n",
      "Epoch 21/50\n",
      "13/13 [==============================] - 20s 2s/step - loss: 0.1054 - accuracy: 0.9663 - val_loss: 0.2294 - val_accuracy: 0.8955\n",
      "Epoch 22/50\n",
      "13/13 [==============================] - 21s 2s/step - loss: 0.1112 - accuracy: 0.9688 - val_loss: 0.7357 - val_accuracy: 0.7239\n",
      "Epoch 23/50\n",
      "13/13 [==============================] - 21s 2s/step - loss: 0.1659 - accuracy: 0.9471 - val_loss: 0.8695 - val_accuracy: 0.6418\n",
      "Epoch 24/50\n",
      "13/13 [==============================] - 20s 2s/step - loss: 0.1733 - accuracy: 0.9399 - val_loss: 0.5510 - val_accuracy: 0.7761\n",
      "Epoch 25/50\n",
      "13/13 [==============================] - 21s 2s/step - loss: 0.1606 - accuracy: 0.9423 - val_loss: 0.3507 - val_accuracy: 0.8433\n",
      "Epoch 26/50\n",
      "13/13 [==============================] - 21s 2s/step - loss: 0.1157 - accuracy: 0.9736 - val_loss: 0.3393 - val_accuracy: 0.8582\n",
      "Epoch 27/50\n",
      "13/13 [==============================] - 20s 2s/step - loss: 0.1093 - accuracy: 0.9615 - val_loss: 0.2124 - val_accuracy: 0.9030\n",
      "Epoch 28/50\n",
      "13/13 [==============================] - 20s 2s/step - loss: 0.0766 - accuracy: 0.9760 - val_loss: 0.2139 - val_accuracy: 0.9104\n",
      "Epoch 29/50\n",
      "13/13 [==============================] - 24s 2s/step - loss: 0.0687 - accuracy: 0.9808 - val_loss: 0.3635 - val_accuracy: 0.8507\n",
      "Epoch 30/50\n",
      "13/13 [==============================] - 21s 2s/step - loss: 0.1057 - accuracy: 0.9639 - val_loss: 0.2421 - val_accuracy: 0.8955\n",
      "Epoch 31/50\n",
      "13/13 [==============================] - 21s 2s/step - loss: 0.0643 - accuracy: 0.9832 - val_loss: 0.3246 - val_accuracy: 0.8806\n",
      "Epoch 32/50\n",
      "13/13 [==============================] - 21s 2s/step - loss: 0.0725 - accuracy: 0.9784 - val_loss: 0.2089 - val_accuracy: 0.9328\n",
      "Epoch 33/50\n",
      "13/13 [==============================] - 21s 2s/step - loss: 0.1412 - accuracy: 0.9639 - val_loss: 0.2227 - val_accuracy: 0.9254\n",
      "Epoch 34/50\n",
      "13/13 [==============================] - 21s 2s/step - loss: 0.0856 - accuracy: 0.9880 - val_loss: 0.2469 - val_accuracy: 0.9030\n",
      "Epoch 35/50\n",
      "13/13 [==============================] - 21s 2s/step - loss: 0.0917 - accuracy: 0.9808 - val_loss: 0.2255 - val_accuracy: 0.9254\n",
      "Epoch 36/50\n",
      "13/13 [==============================] - 21s 2s/step - loss: 0.0933 - accuracy: 0.9567 - val_loss: 0.2478 - val_accuracy: 0.9030\n",
      "Epoch 37/50\n",
      "13/13 [==============================] - 20s 2s/step - loss: 0.0667 - accuracy: 0.9808 - val_loss: 0.3389 - val_accuracy: 0.8881\n",
      "Epoch 38/50\n",
      "13/13 [==============================] - 21s 2s/step - loss: 0.0434 - accuracy: 0.9856 - val_loss: 0.2508 - val_accuracy: 0.9104\n",
      "Epoch 39/50\n",
      "13/13 [==============================] - 20s 2s/step - loss: 0.0493 - accuracy: 0.9880 - val_loss: 0.2501 - val_accuracy: 0.9403\n",
      "Epoch 40/50\n",
      "13/13 [==============================] - 20s 2s/step - loss: 0.0684 - accuracy: 0.9856 - val_loss: 0.3894 - val_accuracy: 0.8731\n",
      "Epoch 41/50\n",
      "13/13 [==============================] - 21s 2s/step - loss: 0.1145 - accuracy: 0.9591 - val_loss: 0.3971 - val_accuracy: 0.8433\n",
      "Epoch 42/50\n",
      "13/13 [==============================] - 22s 2s/step - loss: 0.1124 - accuracy: 0.9688 - val_loss: 0.2602 - val_accuracy: 0.8955\n",
      "Epoch 43/50\n",
      "13/13 [==============================] - 21s 2s/step - loss: 0.0511 - accuracy: 0.9904 - val_loss: 0.1899 - val_accuracy: 0.9179\n",
      "Epoch 44/50\n",
      "13/13 [==============================] - 22s 2s/step - loss: 0.0377 - accuracy: 0.9880 - val_loss: 0.1534 - val_accuracy: 0.9328\n",
      "Epoch 45/50\n",
      "13/13 [==============================] - 21s 2s/step - loss: 0.0913 - accuracy: 0.9663 - val_loss: 0.3066 - val_accuracy: 0.8881\n",
      "Epoch 46/50\n",
      "13/13 [==============================] - 20s 2s/step - loss: 0.0953 - accuracy: 0.9615 - val_loss: 0.1981 - val_accuracy: 0.9179\n",
      "Epoch 47/50\n",
      "13/13 [==============================] - 21s 2s/step - loss: 0.0456 - accuracy: 0.9904 - val_loss: 0.2369 - val_accuracy: 0.9179\n",
      "Epoch 48/50\n",
      "13/13 [==============================] - 21s 2s/step - loss: 0.1611 - accuracy: 0.9736 - val_loss: 0.6618 - val_accuracy: 0.7687\n",
      "Epoch 49/50\n",
      "13/13 [==============================] - 21s 2s/step - loss: 0.2715 - accuracy: 0.9014 - val_loss: 0.5443 - val_accuracy: 0.6940\n",
      "Epoch 50/50\n",
      "13/13 [==============================] - 20s 2s/step - loss: 0.1804 - accuracy: 0.9423 - val_loss: 0.3237 - val_accuracy: 0.8507\n"
     ]
    }
   ],
   "source": [
    "r = model.fit(\n",
    "  training_set,\n",
    "  validation_data=test_set,\n",
    "  epochs=50,\n",
    "  verbose = 1,\n",
    "  steps_per_epoch=len(training_set),\n",
    "  validation_steps=len(test_set)\n",
    ")"
   ]
  },
  {
   "cell_type": "code",
   "execution_count": 25,
   "id": "53aa1cf6",
   "metadata": {},
   "outputs": [
    {
     "name": "stdout",
     "output_type": "stream",
     "text": [
      "5/5 [==============================] - 1s 139ms/step - loss: 0.3237 - accuracy: 0.8507\n"
     ]
    }
   ],
   "source": [
    "scores = model.evaluate(test_set)"
   ]
  },
  {
   "cell_type": "code",
   "execution_count": 26,
   "id": "646937b8",
   "metadata": {},
   "outputs": [
    {
     "data": {
      "image/png": "[encoded data removed]",
      "text/plain": [
       "<Figure size 640x480 with 1 Axes>"
      ]
     },
     "metadata": {},
     "output_type": "display_data"
    },
    {
     "data": {
      "image/png": "[encoded data removed]",
      "text/plain": [
       "<Figure size 640x480 with 1 Axes>"
      ]
     },
     "metadata": {},
     "output_type": "display_data"
    },
    {
     "data": {
      "text/plain": [
       "<Figure size 640x480 with 0 Axes>"
      ]
     },
     "metadata": {},
     "output_type": "display_data"
    }
   ],
   "source": [
    "#Here we plot the loss\n",
    "plt.plot(r.history['loss'], label='train loss')\n",
    "plt.plot(r.history['val_loss'], label='val loss')\n",
    "plt.legend()\n",
    "plt.show()\n",
    "plt.savefig('LossVal_loss')\n",
    "\n",
    "#Here we plot the accuracy\n",
    "plt.plot(r.history['accuracy'],label='train accuracy')\n",
    "plt.plot(r.history['val_accuracy'],label='val accuracy')\n",
    "plt.legend()\n",
    "plt.show()\n",
    "plt.savefig('AccVal_accuracy')"
   ]
  },
  {
   "cell_type": "code",
   "execution_count": 27,
   "id": "0678215c",
   "metadata": {},
   "outputs": [],
   "source": [
    "from tensorflow.keras.models import load_model\n",
    "model.save('model_mobilnet.h5')"
   ]
  },
  {
   "cell_type": "code",
   "execution_count": null,
   "id": "44ec7918",
   "metadata": {},
   "outputs": [],
   "source": []
  }
 ],
 "metadata": {
  "kernelspec": {
   "display_name": "Python 3 (ipykernel)",
   "language": "python",
   "name": "python3"
  },
  "language_info": {
   "codemirror_mode": {
    "name": "ipython",
    "version": 3
   },
   "file_extension": ".py",
   "mimetype": "text/x-python",
   "name": "python",
   "nbconvert_exporter": "python",
   "pygments_lexer": "ipython3",
   "version": "3.9.13"
  }
 },
 "nbformat": 4,
 "nbformat_minor": 5
}
